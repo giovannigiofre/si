{
 "cells": [
  {
   "cell_type": "markdown",
   "metadata": {},
   "source": [
    "## importing libraries"
   ]
  },
  {
   "cell_type": "code",
   "execution_count": 1,
   "metadata": {},
   "outputs": [],
   "source": [
    "import numpy as np\n",
    "from si.data.dataset import Dataset\n",
    "from si.neural_networks.layers import DenseLayer\n",
    "from si.neural_networks.activation import ReLUActivation, SigmoidActivation\n",
    "from si.neural_networks.losses import BinaryCrossEntropy\n",
    "from si.neural_networks.optimizers import SGD\n",
    "from si.metrics.accuracy import accuracy\n",
    "from si.neural_networks.neural_network import NeuralNetwork"
   ]
  },
  {
   "cell_type": "markdown",
   "metadata": {},
   "source": [
    "## Generate random data"
   ]
  },
  {
   "cell_type": "code",
   "execution_count": 2,
   "metadata": {},
   "outputs": [],
   "source": [
    "np.random.seed(201)\n",
    "X_train = np.random.rand(1000, 32)\n",
    "y_train = np.random.randint(2, size=1000)\n",
    "\n",
    "X_test = np.random.rand(200, 32)\n",
    "y_test = np.random.randint(2, size=200)\n",
    "\n",
    "train_dataset = Dataset(X=X_train, y=y_train)\n",
    "test_dataset = Dataset(X=X_test, y=y_test)"
   ]
  },
  {
   "cell_type": "markdown",
   "metadata": {},
   "source": [
    "## Build the neural network"
   ]
  },
  {
   "cell_type": "code",
   "execution_count": 3,
   "metadata": {},
   "outputs": [
    {
     "data": {
      "text/plain": [
       "<si.neural_networks.neural_network.NeuralNetwork at 0x7fd71bc2ac50>"
      ]
     },
     "execution_count": 3,
     "metadata": {},
     "output_type": "execute_result"
    }
   ],
   "source": [
    "model = NeuralNetwork(epochs=100, batch_size=16, optimizer=SGD, learning_rate=0.01,\n",
    "                      loss=BinaryCrossEntropy, metric=accuracy, verbose=True)\n",
    "\n",
    "n_features = X_train.shape[1]\n",
    "\n",
    "model.add(DenseLayer(n_units=n_features // 2, input_shape=(n_features,)))\n",
    "model.add(ReLUActivation())\n",
    "model.add(DenseLayer(n_units=n_features // 4))\n",
    "model.add(ReLUActivation())\n",
    "model.add(DenseLayer(n_units=1))\n",
    "model.add(SigmoidActivation())"
   ]
  },
  {
   "cell_type": "markdown",
   "metadata": {},
   "source": [
    "## Model Train"
   ]
  },
  {
   "cell_type": "code",
   "execution_count": 5,
   "metadata": {},
   "outputs": [
    {
     "name": "stdout",
     "output_type": "stream",
     "text": [
      "Epoch 1/100 - loss: 692.5489 - accuracy: 0.4940\n",
      "Epoch 2/100 - loss: 689.9565 - accuracy: 0.4899\n",
      "Epoch 3/100 - loss: 688.1410 - accuracy: 0.5101\n",
      "Epoch 4/100 - loss: 687.3775 - accuracy: 0.5222\n",
      "Epoch 5/100 - loss: 686.0587 - accuracy: 0.5302\n",
      "Epoch 6/100 - loss: 685.3385 - accuracy: 0.5161\n",
      "Epoch 7/100 - loss: 682.7064 - accuracy: 0.5504\n",
      "Epoch 8/100 - loss: 685.4098 - accuracy: 0.5423\n",
      "Epoch 9/100 - loss: 683.6813 - accuracy: 0.5333\n",
      "Epoch 10/100 - loss: 681.8399 - accuracy: 0.5464\n",
      "Epoch 11/100 - loss: 681.6614 - accuracy: 0.5262\n",
      "Epoch 12/100 - loss: 681.2697 - accuracy: 0.5413\n",
      "Epoch 13/100 - loss: 678.2667 - accuracy: 0.5514\n",
      "Epoch 14/100 - loss: 675.2556 - accuracy: 0.5625\n",
      "Epoch 15/100 - loss: 676.7268 - accuracy: 0.5675\n",
      "Epoch 16/100 - loss: 673.3101 - accuracy: 0.5736\n",
      "Epoch 17/100 - loss: 673.7432 - accuracy: 0.5675\n",
      "Epoch 18/100 - loss: 670.9815 - accuracy: 0.5766\n",
      "Epoch 19/100 - loss: 665.9058 - accuracy: 0.5776\n",
      "Epoch 20/100 - loss: 668.3567 - accuracy: 0.5867\n",
      "Epoch 21/100 - loss: 664.4522 - accuracy: 0.5796\n",
      "Epoch 22/100 - loss: 663.4220 - accuracy: 0.5897\n",
      "Epoch 23/100 - loss: 660.6825 - accuracy: 0.5917\n",
      "Epoch 24/100 - loss: 658.9031 - accuracy: 0.5978\n",
      "Epoch 25/100 - loss: 655.4360 - accuracy: 0.6008\n",
      "Epoch 26/100 - loss: 656.9536 - accuracy: 0.5847\n",
      "Epoch 27/100 - loss: 652.7023 - accuracy: 0.6058\n",
      "Epoch 28/100 - loss: 652.0025 - accuracy: 0.5978\n",
      "Epoch 29/100 - loss: 646.8000 - accuracy: 0.6200\n",
      "Epoch 30/100 - loss: 646.6220 - accuracy: 0.6240\n",
      "Epoch 31/100 - loss: 633.4035 - accuracy: 0.6431\n",
      "Epoch 32/100 - loss: 643.7845 - accuracy: 0.6190\n",
      "Epoch 33/100 - loss: 633.3299 - accuracy: 0.6310\n",
      "Epoch 34/100 - loss: 629.8279 - accuracy: 0.6331\n",
      "Epoch 35/100 - loss: 631.2210 - accuracy: 0.6300\n",
      "Epoch 36/100 - loss: 631.1507 - accuracy: 0.6220\n",
      "Epoch 37/100 - loss: 620.7071 - accuracy: 0.6552\n",
      "Epoch 38/100 - loss: 624.8039 - accuracy: 0.6573\n",
      "Epoch 39/100 - loss: 616.5171 - accuracy: 0.6583\n",
      "Epoch 40/100 - loss: 619.6566 - accuracy: 0.6613\n",
      "Epoch 41/100 - loss: 607.3925 - accuracy: 0.6593\n",
      "Epoch 42/100 - loss: 602.9883 - accuracy: 0.6583\n",
      "Epoch 43/100 - loss: 602.9960 - accuracy: 0.6905\n",
      "Epoch 44/100 - loss: 600.2064 - accuracy: 0.6673\n",
      "Epoch 45/100 - loss: 595.7558 - accuracy: 0.6855\n",
      "Epoch 46/100 - loss: 589.7326 - accuracy: 0.6754\n",
      "Epoch 47/100 - loss: 584.2050 - accuracy: 0.6855\n",
      "Epoch 48/100 - loss: 586.8528 - accuracy: 0.6804\n",
      "Epoch 49/100 - loss: 565.8167 - accuracy: 0.7016\n",
      "Epoch 50/100 - loss: 560.9557 - accuracy: 0.7097\n",
      "Epoch 51/100 - loss: 567.6320 - accuracy: 0.6986\n",
      "Epoch 52/100 - loss: 563.0104 - accuracy: 0.6946\n",
      "Epoch 53/100 - loss: 570.8226 - accuracy: 0.7056\n",
      "Epoch 54/100 - loss: 564.9999 - accuracy: 0.6946\n",
      "Epoch 55/100 - loss: 555.4564 - accuracy: 0.6845\n",
      "Epoch 56/100 - loss: 545.8366 - accuracy: 0.7288\n",
      "Epoch 57/100 - loss: 551.8410 - accuracy: 0.7167\n",
      "Epoch 58/100 - loss: 547.7563 - accuracy: 0.7258\n",
      "Epoch 59/100 - loss: 547.9971 - accuracy: 0.7228\n",
      "Epoch 60/100 - loss: 544.8858 - accuracy: 0.7167\n",
      "Epoch 61/100 - loss: 529.9150 - accuracy: 0.7258\n",
      "Epoch 62/100 - loss: 523.9190 - accuracy: 0.7308\n",
      "Epoch 63/100 - loss: 519.3917 - accuracy: 0.7460\n",
      "Epoch 64/100 - loss: 522.7653 - accuracy: 0.7349\n",
      "Epoch 65/100 - loss: 510.8781 - accuracy: 0.7440\n",
      "Epoch 66/100 - loss: 514.6923 - accuracy: 0.7389\n",
      "Epoch 67/100 - loss: 496.5061 - accuracy: 0.7460\n",
      "Epoch 68/100 - loss: 507.1814 - accuracy: 0.7510\n",
      "Epoch 69/100 - loss: 499.7299 - accuracy: 0.7661\n",
      "Epoch 70/100 - loss: 519.5293 - accuracy: 0.7399\n",
      "Epoch 71/100 - loss: 491.4054 - accuracy: 0.7500\n",
      "Epoch 72/100 - loss: 486.2161 - accuracy: 0.7651\n",
      "Epoch 73/100 - loss: 478.6202 - accuracy: 0.7671\n",
      "Epoch 74/100 - loss: 501.2070 - accuracy: 0.7500\n",
      "Epoch 75/100 - loss: 488.7655 - accuracy: 0.7661\n",
      "Epoch 76/100 - loss: 484.8800 - accuracy: 0.7621\n",
      "Epoch 77/100 - loss: 485.4584 - accuracy: 0.7560\n",
      "Epoch 78/100 - loss: 467.1013 - accuracy: 0.7631\n",
      "Epoch 79/100 - loss: 468.8715 - accuracy: 0.7702\n",
      "Epoch 80/100 - loss: 455.6040 - accuracy: 0.7782\n",
      "Epoch 81/100 - loss: 463.4458 - accuracy: 0.7742\n",
      "Epoch 82/100 - loss: 473.6967 - accuracy: 0.7893\n",
      "Epoch 83/100 - loss: 453.7247 - accuracy: 0.7722\n",
      "Epoch 84/100 - loss: 438.7863 - accuracy: 0.7944\n",
      "Epoch 85/100 - loss: 450.8202 - accuracy: 0.7883\n",
      "Epoch 86/100 - loss: 451.1799 - accuracy: 0.7893\n",
      "Epoch 87/100 - loss: 445.1430 - accuracy: 0.7933\n",
      "Epoch 88/100 - loss: 426.7137 - accuracy: 0.8014\n",
      "Epoch 89/100 - loss: 458.9842 - accuracy: 0.7873\n",
      "Epoch 90/100 - loss: 432.1788 - accuracy: 0.7954\n",
      "Epoch 91/100 - loss: 415.1979 - accuracy: 0.8155\n",
      "Epoch 92/100 - loss: 456.6286 - accuracy: 0.7853\n",
      "Epoch 93/100 - loss: 445.4928 - accuracy: 0.7964\n",
      "Epoch 94/100 - loss: 438.5903 - accuracy: 0.7923\n",
      "Epoch 95/100 - loss: 417.8684 - accuracy: 0.8024\n",
      "Epoch 96/100 - loss: 418.8812 - accuracy: 0.8226\n",
      "Epoch 97/100 - loss: 451.0341 - accuracy: 0.7954\n",
      "Epoch 98/100 - loss: 422.9820 - accuracy: 0.8004\n",
      "Epoch 99/100 - loss: 397.5626 - accuracy: 0.8226\n",
      "Epoch 100/100 - loss: 400.0229 - accuracy: 0.8276\n"
     ]
    },
    {
     "data": {
      "text/plain": [
       "<si.neural_networks.neural_network.NeuralNetwork at 0x7fd71bc2ac50>"
      ]
     },
     "execution_count": 5,
     "metadata": {},
     "output_type": "execute_result"
    }
   ],
   "source": [
    "model.fit(train_dataset)"
   ]
  },
  {
   "cell_type": "markdown",
   "metadata": {},
   "source": [
    "## Test the model on the test set\n"
   ]
  },
  {
   "cell_type": "code",
   "execution_count": 6,
   "metadata": {},
   "outputs": [
    {
     "name": "stdout",
     "output_type": "stream",
     "text": [
      "Test Accuracy is: 0.485\n"
     ]
    }
   ],
   "source": [
    "test_accuracy = model.score(test_dataset)\n",
    "\n",
    "print(f\"Test Accuracy is: {test_accuracy}\")"
   ]
  }
 ],
 "metadata": {
  "kernelspec": {
   "display_name": "bioinformatics",
   "language": "python",
   "name": "python3"
  },
  "language_info": {
   "codemirror_mode": {
    "name": "ipython",
    "version": 3
   },
   "file_extension": ".py",
   "mimetype": "text/x-python",
   "name": "python",
   "nbconvert_exporter": "python",
   "pygments_lexer": "ipython3",
   "version": "3.10.13"
  }
 },
 "nbformat": 4,
 "nbformat_minor": 2
}
