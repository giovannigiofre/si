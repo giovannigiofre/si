{
 "cells": [
  {
   "cell_type": "code",
   "execution_count": 1,
   "metadata": {},
   "outputs": [],
   "source": [
    "import numpy as np\n",
    "from si.io.csv_file import read_csv\n",
    "from si.models.logistic_regression import LogisticRegression\n",
    "from si.model_selection.cross_validation import k_fold_cross_validation\n",
    "from si.model_selection.randomized_search import randomized_search_cv"
   ]
  },
  {
   "cell_type": "code",
   "execution_count": 2,
   "metadata": {},
   "outputs": [],
   "source": [
    "# datasets\n",
    "breast_bin_dataset = read_csv('../datasets/breast_bin/breast-bin.csv', features=False, label=True)"
   ]
  },
  {
   "cell_type": "code",
   "execution_count": 3,
   "metadata": {},
   "outputs": [
    {
     "data": {
      "text/plain": [
       "[0.9568345323741008,\n",
       " 0.9712230215827338,\n",
       " 0.9424460431654677,\n",
       " 0.9928057553956835,\n",
       " 0.9712230215827338]"
      ]
     },
     "execution_count": 3,
     "metadata": {},
     "output_type": "execute_result"
    }
   ],
   "source": [
    "# cross validation\n",
    "lg = LogisticRegression()\n",
    "scores = k_fold_cross_validation(lg, breast_bin_dataset, cv=5)\n",
    "scores"
   ]
  },
  {
   "cell_type": "code",
   "execution_count": 4,
   "metadata": {},
   "outputs": [],
   "source": [
    "l2_ = np.linspace(1, 10, 10)\n",
    "alpha_ = np.linspace(0.001, 0.0001, 100)\n",
    "max_iter_ = np.linspace(1000, 2000, 200)"
   ]
  },
  {
   "cell_type": "code",
   "execution_count": 5,
   "metadata": {},
   "outputs": [
    {
     "data": {
      "text/plain": [
       "{'scores': [0.9669540229885057,\n",
       "  0.9669540229885057,\n",
       "  0.9669540229885057,\n",
       "  0.9669540229885057,\n",
       "  0.9669540229885057,\n",
       "  0.9669540229885056,\n",
       "  0.9669540229885057,\n",
       "  0.9669540229885057,\n",
       "  0.9669540229885057,\n",
       "  0.9669540229885057],\n",
       " 'hyperparameters': [{'l2_penalty': 8.0,\n",
       "   'alpha': 0.0002181818181818182,\n",
       "   'max_iter': 1286.43216080402},\n",
       "  {'l2_penalty': 10.0,\n",
       "   'alpha': 0.0008454545454545455,\n",
       "   'max_iter': 1391.9597989949748},\n",
       "  {'l2_penalty': 8.0,\n",
       "   'alpha': 0.00012727272727272728,\n",
       "   'max_iter': 1261.3065326633166},\n",
       "  {'l2_penalty': 9.0,\n",
       "   'alpha': 0.0005181818181818182,\n",
       "   'max_iter': 1075.3768844221106},\n",
       "  {'l2_penalty': 4.0,\n",
       "   'alpha': 0.0007818181818181818,\n",
       "   'max_iter': 1738.6934673366836},\n",
       "  {'l2_penalty': 4.0,\n",
       "   'alpha': 0.0005727272727272727,\n",
       "   'max_iter': 1336.6834170854272},\n",
       "  {'l2_penalty': 6.0,\n",
       "   'alpha': 0.00030909090909090914,\n",
       "   'max_iter': 1834.1708542713568},\n",
       "  {'l2_penalty': 6.0,\n",
       "   'alpha': 0.00032727272727272726,\n",
       "   'max_iter': 1854.2713567839196},\n",
       "  {'l2_penalty': 7.0,\n",
       "   'alpha': 0.0007181818181818182,\n",
       "   'max_iter': 1286.43216080402},\n",
       "  {'l2_penalty': 6.0,\n",
       "   'alpha': 0.0007363636363636363,\n",
       "   'max_iter': 1763.819095477387}],\n",
       " 'best_hyperparameters': {'l2_penalty': 8.0,\n",
       "  'alpha': 0.0002181818181818182,\n",
       "  'max_iter': 1286.43216080402},\n",
       " 'best_score': 0.9669540229885057}"
      ]
     },
     "execution_count": 5,
     "metadata": {},
     "output_type": "execute_result"
    }
   ],
   "source": [
    "# random search cv\n",
    "\n",
    "lg = LogisticRegression()\n",
    "\n",
    "# parameter grid\n",
    "parameter_grid = {\n",
    "    'l2_penalty': l2_,\n",
    "    'alpha': alpha_,\n",
    "    'max_iter': max_iter_\n",
    "}\n",
    "\n",
    "# cross validate the model\n",
    "scores = randomized_search_cv(lg,\n",
    "                        breast_bin_dataset,\n",
    "                        hyperparameter_grid=parameter_grid,\n",
    "                        cv=3,\n",
    "                        n_iter=10)\n",
    "\n",
    "scores"
   ]
  },
  {
   "cell_type": "code",
   "execution_count": null,
   "metadata": {},
   "outputs": [],
   "source": []
  }
 ],
 "metadata": {
  "kernelspec": {
   "display_name": "bioinformatics",
   "language": "python",
   "name": "python3"
  },
  "language_info": {
   "codemirror_mode": {
    "name": "ipython",
    "version": 3
   },
   "file_extension": ".py",
   "mimetype": "text/x-python",
   "name": "python",
   "nbconvert_exporter": "python",
   "pygments_lexer": "ipython3",
   "version": "3.10.13"
  }
 },
 "nbformat": 4,
 "nbformat_minor": 2
}
