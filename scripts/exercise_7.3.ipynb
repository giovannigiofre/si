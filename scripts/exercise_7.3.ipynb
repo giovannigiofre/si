{
 "cells": [
  {
   "cell_type": "markdown",
   "metadata": {},
   "source": [
    "## Exercise 7.3"
   ]
  },
  {
   "cell_type": "code",
   "execution_count": 4,
   "metadata": {},
   "outputs": [],
   "source": [
    "from si.model_selection.split import train_test_split\n",
    "from si.models.knn_regressor import KNNRegressor\n",
    "from si.io.csv_file import read_csv"
   ]
  },
  {
   "cell_type": "code",
   "execution_count": 5,
   "metadata": {},
   "outputs": [],
   "source": [
    "# datasets\n",
    "cpu_dataset = read_csv('../datasets/cpu/cpu.csv', features=True, label=True)"
   ]
  },
  {
   "cell_type": "code",
   "execution_count": 7,
   "metadata": {},
   "outputs": [
    {
     "data": {
      "text/plain": [
       "array([[   25,  1310,  2620,   131,    12,    24],\n",
       "       [  200,  1000,  4000,     0,     1,     4],\n",
       "       [  330,  1000,  4000,     0,     3,     6],\n",
       "       [   30,  8000, 64000,    96,    12,   176],\n",
       "       [  800,   256,  8000,     0,     1,     4],\n",
       "       [   38,  8000, 32000,    64,     8,    24],\n",
       "       [  133,  1000,  8000,     9,     3,    12],\n",
       "       [  240,   512,  1000,     8,     1,     3],\n",
       "       [   23, 32000, 64000,   128,    32,    64],\n",
       "       [   50,  2000, 32000,    48,    26,    52],\n",
       "       [   50,  2000, 16000,    24,     6,    16],\n",
       "       [   52,  4000, 16000,    32,     4,    12],\n",
       "       [  125,  2000,  8000,     0,     2,    14],\n",
       "       [   50,  2000,  8000,     8,     3,     6],\n",
       "       [  200,   512, 16000,     0,     4,    32],\n",
       "       [  300,   768,  3000,     0,     6,    24],\n",
       "       [   38,  4000,  8000,    32,    16,    32],\n",
       "       [  143,  1000,  2000,     0,     5,    16],\n",
       "       [   38,  8000, 16000,    64,     4,     8],\n",
       "       [   57,  4000, 16000,     1,     6,    12],\n",
       "       [  300,   768, 12000,     6,     6,    24],\n",
       "       [  110,  1000, 12000,    16,     1,     2],\n",
       "       [   50,  4000, 16000,    64,     5,    10],\n",
       "       [  900,  1000,  4000,     4,     1,     2],\n",
       "       [  900,   512,  1000,     0,     1,     2],\n",
       "       [   92,  2000,  8000,     4,     1,     6],\n",
       "       [  320,   512,  2000,     4,     1,     3],\n",
       "       [   50,  2000,  4000,     0,     3,     6],\n",
       "       [  167,   524,  2000,     8,     4,    15],\n",
       "       [  200,  2000,  8000,    64,     1,     5],\n",
       "       [   26,  8000, 32000,    64,    12,    16],\n",
       "       [  105,  2000,  4000,     8,     3,    19],\n",
       "       [  115,   512,  6000,    16,     1,     6],\n",
       "       [  105,   256,  2000,     0,     3,    10],\n",
       "       [  600,   768,  2000,     0,     1,     1],\n",
       "       [  100,  1000,  8000,    24,     2,     6],\n",
       "       [  480,   512,  8000,    32,     0,     0],\n",
       "       [   26, 16000, 32000,    64,    16,    24],\n",
       "       [  300,  1000, 16000,     8,     2,   112],\n",
       "       [   56,  1000,  4000,     0,     1,     6],\n",
       "       [   50,  2000, 32000,   112,    52,   104]])"
      ]
     },
     "execution_count": 7,
     "metadata": {},
     "output_type": "execute_result"
    }
   ],
   "source": [
    "# split dataset\n",
    "train_dataset, test_dataset = train_test_split(cpu_dataset)\n",
    "test_dataset.X"
   ]
  },
  {
   "cell_type": "code",
   "execution_count": 8,
   "metadata": {},
   "outputs": [
    {
     "data": {
      "text/plain": [
       "array([140.66666667,  29.33333333,  35.66666667, 701.33333333,\n",
       "        15.33333333, 321.66666667,  39.33333333,  29.66666667,\n",
       "       765.33333333, 148.        ,  68.        ,  66.        ,\n",
       "        59.33333333,  50.33333333,  88.        ,  32.66666667,\n",
       "        60.66666667,  20.33333333, 179.33333333,  66.        ,\n",
       "        69.66666667,  69.66666667, 124.66666667,  35.        ,\n",
       "        12.        ,  75.        ,  21.        ,  30.33333333,\n",
       "        21.        ,  75.        , 321.66666667,  32.33333333,\n",
       "        84.66666667,  24.66666667,  15.66666667,  31.33333333,\n",
       "        42.        , 440.33333333,  88.        ,  29.        ,\n",
       "       148.        ])"
      ]
     },
     "execution_count": 8,
     "metadata": {},
     "output_type": "execute_result"
    }
   ],
   "source": [
    "# knn regressor\n",
    "k = 3\n",
    "kmeansr = KNNRegressor(k)\n",
    "kmeansr.fit(train_dataset)\n",
    "predictions = kmeansr.predict(test_dataset)\n",
    "predictions"
   ]
  },
  {
   "cell_type": "code",
   "execution_count": 9,
   "metadata": {},
   "outputs": [
    {
     "data": {
      "text/plain": [
       "81.3592188582519"
      ]
     },
     "execution_count": 9,
     "metadata": {},
     "output_type": "execute_result"
    }
   ],
   "source": [
    "kmeansr.score(test_dataset)"
   ]
  },
  {
   "cell_type": "code",
   "execution_count": null,
   "metadata": {},
   "outputs": [],
   "source": []
  }
 ],
 "metadata": {
  "kernelspec": {
   "display_name": "bioinformatics",
   "language": "python",
   "name": "python3"
  },
  "language_info": {
   "codemirror_mode": {
    "name": "ipython",
    "version": 3
   },
   "file_extension": ".py",
   "mimetype": "text/x-python",
   "name": "python",
   "nbconvert_exporter": "python",
   "pygments_lexer": "ipython3",
   "version": "3.10.13"
  }
 },
 "nbformat": 4,
 "nbformat_minor": 2
}
